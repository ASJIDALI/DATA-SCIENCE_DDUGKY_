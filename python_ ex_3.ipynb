{
 "cells": [
  {
   "cell_type": "markdown",
   "id": "b341f8ff",
   "metadata": {},
   "source": [
    "1. Write a Python program to multiply all the items in a list."
   ]
  },
  {
   "cell_type": "code",
   "execution_count": null,
   "id": "70451e76",
   "metadata": {},
   "outputs": [],
   "source": [
    "x=[1,2,3,4,5,6]\n",
    "a=1\n",
    "for i in x:\n",
    "    a=a*i\n",
    "print(a)\n",
    "    "
   ]
  },
  {
   "cell_type": "markdown",
   "id": "0935d23d",
   "metadata": {},
   "source": [
    "2.\tWrite a Python program to get the largest number from a list."
   ]
  },
  {
   "cell_type": "code",
   "execution_count": 7,
   "id": "97273557",
   "metadata": {},
   "outputs": [
    {
     "data": {
      "text/plain": [
       "652"
      ]
     },
     "execution_count": 7,
     "metadata": {},
     "output_type": "execute_result"
    }
   ],
   "source": [
    "x=[126,548,652,463]\n",
    "# a=0\n",
    "# for i in x:\n",
    "#     if i>a:\n",
    "#         a=i\n",
    "# print(a)\n",
    "max(x)\n",
    "        "
   ]
  },
  {
   "cell_type": "markdown",
   "id": "9b93a661",
   "metadata": {},
   "source": [
    "3.\tWrite a Python program to get the smallest number from a list."
   ]
  },
  {
   "cell_type": "code",
   "execution_count": 8,
   "id": "05649355",
   "metadata": {},
   "outputs": [
    {
     "data": {
      "text/plain": [
       "126"
      ]
     },
     "execution_count": 8,
     "metadata": {},
     "output_type": "execute_result"
    }
   ],
   "source": [
    "x=[126,548,652,463]\n",
    "# a=x[0]\n",
    "# for i in x[1:]:\n",
    "#     if i<a:\n",
    "#         a=i\n",
    "        \n",
    "# print(a)\n",
    "min(x)\n",
    "        "
   ]
  },
  {
   "cell_type": "markdown",
   "id": "8b6ed696",
   "metadata": {},
   "source": [
    "4.\tWrite a Python program to count the number of strings from a given list of strings. The string length is 2 or more and the first and last characters are the same."
   ]
  },
  {
   "cell_type": "code",
   "execution_count": 5,
   "id": "0747843b",
   "metadata": {},
   "outputs": [
    {
     "name": "stdout",
     "output_type": "stream",
     "text": [
      "enter the value abinav\n",
      "enter the value anna\n",
      "enter the value ab\n",
      "enter the value mohana\n",
      "enter the value aja\n",
      "['abinav', 'anna', 'ab', 'mohana', 'aja'] \n",
      " count is  2\n"
     ]
    }
   ],
   "source": [
    "a=[]\n",
    "for i in range(5):\n",
    "    x=input(\"enter the value \")\n",
    "    a.append(x)\n",
    "b=0\n",
    "for i in a:\n",
    "    if len(a)>2 and i[0]==i[-1]:\n",
    "        b+=1\n",
    "print(a,'\\n','count is ',b)\n",
    "        \n",
    "        "
   ]
  },
  {
   "cell_type": "markdown",
   "id": "2e984c0e",
   "metadata": {},
   "source": [
    "5.\tWrite a Python program to remove duplicates from a list."
   ]
  },
  {
   "cell_type": "code",
   "execution_count": 2,
   "id": "e8f13ad1",
   "metadata": {},
   "outputs": [
    {
     "name": "stdout",
     "output_type": "stream",
     "text": [
      "[1, 2, 4, 54]\n"
     ]
    }
   ],
   "source": [
    "a=[1,2,2,1,54,4]\n",
    "b=set(a)\n",
    "a=list(b)\n",
    "print(a)"
   ]
  },
  {
   "cell_type": "markdown",
   "id": "3bddf370",
   "metadata": {},
   "source": [
    "6.\tWrite a Python program to check if a list is empty or not."
   ]
  },
  {
   "cell_type": "code",
   "execution_count": 25,
   "id": "00a2c262",
   "metadata": {},
   "outputs": [
    {
     "name": "stdout",
     "output_type": "stream",
     "text": [
      "not empty\n"
     ]
    }
   ],
   "source": [
    "x=[1,2,3,5,4,6,65]\n",
    "if len(x)>0:\n",
    "    print('not empty')\n",
    "else:\n",
    "    print('empyt list')"
   ]
  },
  {
   "cell_type": "markdown",
   "id": "43329c04",
   "metadata": {},
   "source": [
    "7. Write a Python program to find the list of words that are longer than n from a\n",
    "given list of words."
   ]
  },
  {
   "cell_type": "markdown",
   "id": "8712d9ff",
   "metadata": {},
   "source": [
    "8.\tWrite a Python program to print a specified list after removing the 0th, 4th and 5th elements."
   ]
  },
  {
   "cell_type": "code",
   "execution_count": 45,
   "id": "f88e3266",
   "metadata": {},
   "outputs": [
    {
     "data": {
      "text/plain": [
       "[1, 2, 3, 6, 7, 8, 9]"
      ]
     },
     "execution_count": 45,
     "metadata": {},
     "output_type": "execute_result"
    }
   ],
   "source": [
    "x=[0,1,2,3,4,5,6,7,8,9]\n",
    "for i in [0,3,3]:\n",
    "    x.pop(i)\n",
    "x"
   ]
  },
  {
   "cell_type": "markdown",
   "id": "2354616e",
   "metadata": {},
   "source": [
    "9.\tWrite a Python program to check if each number is prime in a given list of numbers. Return True if all numbers are prime otherwise False."
   ]
  },
  {
   "cell_type": "code",
   "execution_count": 9,
   "id": "dbbd75dd",
   "metadata": {},
   "outputs": [
    {
     "ename": "AttributeError",
     "evalue": "'NoneType' object has no attribute 'remove'",
     "output_type": "error",
     "traceback": [
      "\u001b[1;31m---------------------------------------------------------------------------\u001b[0m",
      "\u001b[1;31mAttributeError\u001b[0m                            Traceback (most recent call last)",
      "\u001b[1;32m~\\AppData\\Local\\Temp\\ipykernel_9704\\2260114814.py\u001b[0m in \u001b[0;36m<module>\u001b[1;34m\u001b[0m\n\u001b[0;32m      3\u001b[0m     \u001b[0ma\u001b[0m\u001b[1;33m=\u001b[0m\u001b[0mi\u001b[0m\u001b[1;33m/\u001b[0m\u001b[1;36m2\u001b[0m\u001b[1;33m\u001b[0m\u001b[1;33m\u001b[0m\u001b[0m\n\u001b[0;32m      4\u001b[0m     \u001b[1;32mif\u001b[0m \u001b[0mtype\u001b[0m\u001b[1;33m(\u001b[0m\u001b[0ma\u001b[0m\u001b[1;33m)\u001b[0m\u001b[1;33m==\u001b[0m\u001b[0mfloat\u001b[0m \u001b[1;32mor\u001b[0m \u001b[0mi\u001b[0m\u001b[1;33m!=\u001b[0m\u001b[1;36m2\u001b[0m\u001b[1;33m:\u001b[0m\u001b[1;33m\u001b[0m\u001b[1;33m\u001b[0m\u001b[0m\n\u001b[1;32m----> 5\u001b[1;33m         \u001b[0mq\u001b[0m\u001b[1;33m=\u001b[0m\u001b[0mq\u001b[0m\u001b[1;33m.\u001b[0m\u001b[0mremove\u001b[0m\u001b[1;33m(\u001b[0m\u001b[0mi\u001b[0m\u001b[1;33m)\u001b[0m\u001b[1;33m\u001b[0m\u001b[1;33m\u001b[0m\u001b[0m\n\u001b[0m\u001b[0;32m      6\u001b[0m \u001b[0mq\u001b[0m\u001b[1;33m\u001b[0m\u001b[1;33m\u001b[0m\u001b[0m\n",
      "\u001b[1;31mAttributeError\u001b[0m: 'NoneType' object has no attribute 'remove'"
     ]
    }
   ],
   "source": [
    "q=[2,3,5,7,9]\n",
    "for i in q:\n",
    "    a=i/2\n",
    "    if type(a)==float or i!=2:\n",
    "        q.remove(i)\n",
    "q"
   ]
  },
  {
   "cell_type": "code",
   "execution_count": 4,
   "id": "367871e2",
   "metadata": {},
   "outputs": [
    {
     "data": {
      "text/plain": [
       "float"
      ]
     },
     "execution_count": 4,
     "metadata": {},
     "output_type": "execute_result"
    }
   ],
   "source": [
    "a=2.5\n",
    "type(a)"
   ]
  },
  {
   "cell_type": "code",
   "execution_count": null,
   "id": "f7d93224",
   "metadata": {},
   "outputs": [],
   "source": []
  }
 ],
 "metadata": {
  "kernelspec": {
   "display_name": "Python 3 (ipykernel)",
   "language": "python",
   "name": "python3"
  },
  "language_info": {
   "codemirror_mode": {
    "name": "ipython",
    "version": 3
   },
   "file_extension": ".py",
   "mimetype": "text/x-python",
   "name": "python",
   "nbconvert_exporter": "python",
   "pygments_lexer": "ipython3",
   "version": "3.9.13"
  }
 },
 "nbformat": 4,
 "nbformat_minor": 5
}
