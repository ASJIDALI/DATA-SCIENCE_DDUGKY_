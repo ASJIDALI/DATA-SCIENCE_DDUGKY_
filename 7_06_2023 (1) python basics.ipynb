{
 "cells": [
  {
   "cell_type": "code",
   "execution_count": null,
   "id": "4200b7a8",
   "metadata": {},
   "outputs": [],
   "source": [
    "l1=[1,2,[3,4,[5,6],7],8,9]\n",
    "l1[2][2].append(10)\n",
    "l1"
   ]
  },
  {
   "cell_type": "markdown",
   "id": "2ccd228d",
   "metadata": {},
   "source": [
    "# dictionary"
   ]
  },
  {
   "cell_type": "code",
   "execution_count": null,
   "id": "ca6f703a",
   "metadata": {},
   "outputs": [],
   "source": [
    "p1={'name':'Anu','age':25,'gmail':'abc@gmail.com'}\n",
    "p1"
   ]
  },
  {
   "cell_type": "code",
   "execution_count": null,
   "id": "40242a02",
   "metadata": {},
   "outputs": [],
   "source": [
    "p1.values()"
   ]
  },
  {
   "cell_type": "code",
   "execution_count": null,
   "id": "74b21753",
   "metadata": {},
   "outputs": [],
   "source": [
    "p1.keys()"
   ]
  },
  {
   "cell_type": "code",
   "execution_count": null,
   "id": "453644e1",
   "metadata": {},
   "outputs": [],
   "source": [
    "p1.items()"
   ]
  },
  {
   "cell_type": "code",
   "execution_count": null,
   "id": "367c242d",
   "metadata": {},
   "outputs": [],
   "source": [
    "p1['name']"
   ]
  },
  {
   "cell_type": "code",
   "execution_count": null,
   "id": "96971b02",
   "metadata": {},
   "outputs": [],
   "source": [
    "p1['gmail']"
   ]
  },
  {
   "cell_type": "code",
   "execution_count": null,
   "id": "971c1597",
   "metadata": {},
   "outputs": [],
   "source": [
    "p1.get('name')"
   ]
  },
  {
   "cell_type": "code",
   "execution_count": null,
   "id": "47fb9d85",
   "metadata": {},
   "outputs": [],
   "source": [
    "p1['contact']=98462222222\n",
    "p1"
   ]
  },
  {
   "cell_type": "code",
   "execution_count": null,
   "id": "f0f42c42",
   "metadata": {},
   "outputs": [],
   "source": [
    "len(p1)"
   ]
  },
  {
   "cell_type": "code",
   "execution_count": null,
   "id": "dbe1aa83",
   "metadata": {},
   "outputs": [],
   "source": [
    "type(p1)"
   ]
  },
  {
   "cell_type": "code",
   "execution_count": null,
   "id": "b3eb9220",
   "metadata": {},
   "outputs": [],
   "source": [
    "p1['name']='aju'\n",
    "p1"
   ]
  },
  {
   "cell_type": "code",
   "execution_count": null,
   "id": "3bb74a35",
   "metadata": {},
   "outputs": [],
   "source": [
    "p1.pop('age')"
   ]
  },
  {
   "cell_type": "code",
   "execution_count": null,
   "id": "7195b8d6",
   "metadata": {},
   "outputs": [],
   "source": [
    "p1"
   ]
  },
  {
   "cell_type": "code",
   "execution_count": null,
   "id": "7cd9f937",
   "metadata": {},
   "outputs": [],
   "source": [
    "p1.popitem()"
   ]
  },
  {
   "cell_type": "code",
   "execution_count": null,
   "id": "ea46d62b",
   "metadata": {},
   "outputs": [],
   "source": [
    "p1"
   ]
  },
  {
   "cell_type": "code",
   "execution_count": null,
   "id": "d036ca25",
   "metadata": {},
   "outputs": [],
   "source": [
    "p1['age']=25"
   ]
  },
  {
   "cell_type": "code",
   "execution_count": null,
   "id": "2e006f9b",
   "metadata": {},
   "outputs": [],
   "source": [
    "p1['gmail']='abc@gmail.com'"
   ]
  },
  {
   "cell_type": "code",
   "execution_count": null,
   "id": "fcaf72b1",
   "metadata": {},
   "outputs": [],
   "source": [
    "p1"
   ]
  },
  {
   "cell_type": "code",
   "execution_count": null,
   "id": "5b751a1b",
   "metadata": {},
   "outputs": [],
   "source": [
    "p1['contact']=98945555165"
   ]
  },
  {
   "cell_type": "code",
   "execution_count": null,
   "id": "8d5a4705",
   "metadata": {},
   "outputs": [],
   "source": [
    "p1"
   ]
  },
  {
   "cell_type": "code",
   "execution_count": null,
   "id": "e119a78a",
   "metadata": {},
   "outputs": [],
   "source": [
    "# p1.pop('contact')\n",
    "# p1"
   ]
  },
  {
   "cell_type": "code",
   "execution_count": null,
   "id": "f3b3dc4c",
   "metadata": {},
   "outputs": [],
   "source": [
    "# p1.clear()"
   ]
  },
  {
   "cell_type": "code",
   "execution_count": null,
   "id": "008ecddb",
   "metadata": {},
   "outputs": [],
   "source": [
    "# p1"
   ]
  },
  {
   "cell_type": "code",
   "execution_count": null,
   "id": "6a3fef68",
   "metadata": {},
   "outputs": [],
   "source": [
    "# del p1"
   ]
  },
  {
   "cell_type": "code",
   "execution_count": null,
   "id": "21e39dc2",
   "metadata": {},
   "outputs": [],
   "source": [
    "for x in p1:\n",
    "    print(x)"
   ]
  },
  {
   "cell_type": "code",
   "execution_count": null,
   "id": "0e293517",
   "metadata": {},
   "outputs": [],
   "source": [
    "x=int(input('enter a number'))\n",
    "a=1\n",
    "for i in range(1,x+1):\n",
    "    a=a*i\n",
    "print(a)"
   ]
  },
  {
   "cell_type": "code",
   "execution_count": null,
   "id": "e6581b75",
   "metadata": {},
   "outputs": [],
   "source": [
    "for i in range(-1,-11,-1):\n",
    "    print(i)"
   ]
  },
  {
   "cell_type": "code",
   "execution_count": null,
   "id": "c4d55981",
   "metadata": {},
   "outputs": [],
   "source": [
    "x=int(input('enter a number'))\n",
    "a=0\n",
    "while(x>0):\n",
    "    y=x%10\n",
    "    a=(a*10)+y\n",
    "    x=x//10\n",
    "print(a)"
   ]
  },
  {
   "cell_type": "code",
   "execution_count": null,
   "id": "3ebe7ba1",
   "metadata": {},
   "outputs": [],
   "source": [
    "x=int(input('enter a number'))\n",
    "for i in range(1,x+1):\n",
    "    print(i**3)"
   ]
  },
  {
   "cell_type": "code",
   "execution_count": null,
   "id": "fc92d4fe",
   "metadata": {},
   "outputs": [],
   "source": [
    "p1['salary']=1000000000\n",
    "p1"
   ]
  },
  {
   "cell_type": "code",
   "execution_count": null,
   "id": "6a45846f",
   "metadata": {},
   "outputs": [],
   "source": [
    "l1=['name','salary']\n",
    "for i in l1:\n",
    "    p1.pop(i)\n",
    "p1\n",
    "    "
   ]
  },
  {
   "cell_type": "code",
   "execution_count": null,
   "id": "4ebeb613",
   "metadata": {},
   "outputs": [],
   "source": [
    "for i in range(5):\n",
    "    for j in range(i+1):\n",
    "        print(j,end=' ')\n",
    "    print()"
   ]
  },
  {
   "cell_type": "code",
   "execution_count": null,
   "id": "50a8eb9a",
   "metadata": {},
   "outputs": [],
   "source": [
    "x='google'\n",
    "x.count('g')"
   ]
  },
  {
   "cell_type": "markdown",
   "id": "10f48681",
   "metadata": {},
   "source": [
    "1.\tWrite a Python program to count the number of characters (character frequency) in a string."
   ]
  },
  {
   "cell_type": "code",
   "execution_count": 52,
   "id": "d364c4bd",
   "metadata": {},
   "outputs": [
    {
     "name": "stdout",
     "output_type": "stream",
     "text": [
      "enter a word : google.com\n",
      "{'g': 2, 'o': 3, 'l': 1, 'e': 1, 'c': 1, 'm': 1}\n"
     ]
    }
   ],
   "source": [
    "#q 1\n",
    "x=(input('enter a word : '))\n",
    "d={}\n",
    "for i in x:\n",
    "    if i!='.':\n",
    "        d[i]=x.count(i)\n",
    "print(d)\n",
    "    "
   ]
  },
  {
   "cell_type": "markdown",
   "id": "aaee81e0",
   "metadata": {},
   "source": [
    "2.\tWrite a Python program to get a string made of the first 2 and last 2 characters of a given string. If the string length is less than 2, return the empty string instead.\n",
    "Sample String : 'w3resource'\n",
    "Expected Result : 'w3ce'\n",
    "Sample String : 'w3'\n",
    "Expected Result : 'w3w3'\n",
    "Sample String : ' w'\n",
    "Expected Result : Empty String"
   ]
  },
  {
   "cell_type": "code",
   "execution_count": 53,
   "id": "8e45b400",
   "metadata": {},
   "outputs": [
    {
     "name": "stdout",
     "output_type": "stream",
     "text": [
      "enter w3resource\n",
      "w3ce\n"
     ]
    }
   ],
   "source": [
    "#q 2\n",
    "x=input('enter ')\n",
    "if len(x)>=2:\n",
    "    a=x[:2]+x[-2:]\n",
    "    print(a)\n",
    "# elif len(x)==2:\n",
    "#     a=2*x\n",
    "#     print()\n",
    "else:\n",
    "    print('Empty string')"
   ]
  },
  {
   "cell_type": "markdown",
   "id": "8430edaa",
   "metadata": {},
   "source": [
    "3.\tWrite a Python program to get a string from a given string where all occurrences of its first char have been changed to '$', except the first char itself.\n",
    "Sample String : 'restart'\n",
    "Expected Result : 'resta$t'\n"
   ]
  },
  {
   "cell_type": "code",
   "execution_count": 54,
   "id": "ec7b2927",
   "metadata": {},
   "outputs": [
    {
     "name": "stdout",
     "output_type": "stream",
     "text": [
      "enter restart\n",
      "resta$t\n"
     ]
    }
   ],
   "source": [
    "#question 3\n",
    "x=input('enter ')\n",
    "q='$'\n",
    "a=len(x)\n",
    "a=a-1\n",
    "for i in range(1,len(x)):\n",
    "    if  x[0]==x[a]:\n",
    "        w=x.replace(x[a],q)\n",
    "        b=x[0]+w[1:]\n",
    "        print(b)\n",
    "        break\n",
    "    else:\n",
    "        a=a-1 "
   ]
  },
  {
   "cell_type": "markdown",
   "id": "22959bf0",
   "metadata": {},
   "source": [
    "4.\tWrite a Python program to get a single string from two given strings, separated by a space and swap the first two characters of each string.\n",
    "Sample String : 'abc', 'xyz'\n",
    "Expected Result : 'xyc abz'\n"
   ]
  },
  {
   "cell_type": "code",
   "execution_count": 55,
   "id": "2af7e7c6",
   "metadata": {},
   "outputs": [
    {
     "name": "stdout",
     "output_type": "stream",
     "text": [
      "enter a word abc\n",
      "enter another wordxyz\n",
      "xyc abz\n"
     ]
    }
   ],
   "source": [
    "#question4\n",
    "x=input('enter a word ')\n",
    "y=input('enter another word')\n",
    "z=y[:2]+x[2:]+' '+x[:2]+y[2:]\n",
    "print(z)\n"
   ]
  },
  {
   "cell_type": "markdown",
   "id": "d298bfa1",
   "metadata": {},
   "source": [
    "5.\tWrite a Python program to add 'ing' at the end of a given string (length should be at least 3). If the given string already ends with 'ing', add 'ly' instead. If the string length of the given string is less than 3, leave it unchanged."
   ]
  },
  {
   "cell_type": "code",
   "execution_count": 56,
   "id": "6813375d",
   "metadata": {},
   "outputs": [
    {
     "name": "stdout",
     "output_type": "stream",
     "text": [
      "enter a word :playing\n",
      "playly\n"
     ]
    }
   ],
   "source": [
    "#question 5\n",
    "x=input('enter a word :')\n",
    "if len(x)>3 and x[-3:]!='ing':\n",
    "    print(x+'ing')\n",
    "elif x[-3:]=='ing':\n",
    "    print(x[:-3]+'ly')\n",
    "else:\n",
    "    print(x)"
   ]
  },
  {
   "cell_type": "markdown",
   "id": "403cbd1b",
   "metadata": {},
   "source": [
    "6.\t Write a Python program to find the first appearance of the substrings 'not' and 'poor' in a given string. If 'not' follows 'poor', replace the whole 'not'...'poor' substring with 'good'. Return the resulting string.\n",
    "Sample String : 'The lyrics is not that poor!'\n",
    "'The lyrics is poor!'\n",
    "Expected Result : 'The lyrics is good!'\n",
    "'The lyrics is poor!'\n"
   ]
  },
  {
   "cell_type": "code",
   "execution_count": 27,
   "id": "aabd23d6",
   "metadata": {},
   "outputs": [
    {
     "name": "stdout",
     "output_type": "stream",
     "text": [
      "enter a word The lyrics is not that poor!\n",
      "The lyrics is good\n"
     ]
    }
   ],
   "source": [
    "#question 6\n",
    "x=input('enter a word ')\n",
    "a=x.find('not')\n",
    "b=x.find('poor')\n",
    "if x[a:a+3]=='not' and x[b:b+4]=='poor':\n",
    "    x=x[:a]+'good'\n",
    "    print(x)\n",
    "else:\n",
    "    print(x)\n",
    "\n"
   ]
  },
  {
   "cell_type": "markdown",
   "id": "834e1307",
   "metadata": {},
   "source": [
    "7.\t Write a Python program to change a given string to a newly string where the first and last chars have been exchanged."
   ]
  },
  {
   "cell_type": "code",
   "execution_count": 57,
   "id": "6ced0e4b",
   "metadata": {},
   "outputs": [
    {
     "name": "stdout",
     "output_type": "stream",
     "text": [
      "enter a word hello world\n",
      "ldllo worhe\n"
     ]
    }
   ],
   "source": [
    "#question 7\n",
    "x=input('enter a word ')\n",
    "y=x[-2:]+x[2:-2]+x[:2]\n",
    "print(y)"
   ]
  },
  {
   "cell_type": "markdown",
   "id": "f219be9e",
   "metadata": {},
   "source": [
    "8.\tWrite a Python program to remove characters that have odd index values in a given string."
   ]
  },
  {
   "cell_type": "code",
   "execution_count": 8,
   "id": "52513907",
   "metadata": {},
   "outputs": [
    {
     "name": "stdout",
     "output_type": "stream",
     "text": [
      "enter a word airport\n",
      "arot\n"
     ]
    }
   ],
   "source": [
    "# question 8\n",
    "x=input(\"enter a word \")\n",
    "z=x[0]\n",
    "for i in range(2,len(x),2):\n",
    "        z+=x[i]\n",
    "print(z)\n"
   ]
  },
  {
   "cell_type": "markdown",
   "id": "a79b0356",
   "metadata": {},
   "source": [
    "9.\tWrite a Python script that takes input from the user and displays that input back in upper and lower cases."
   ]
  },
  {
   "cell_type": "code",
   "execution_count": 12,
   "id": "532fabd8",
   "metadata": {},
   "outputs": [
    {
     "name": "stdout",
     "output_type": "stream",
     "text": [
      "enter a wordhEllo\n",
      "upper case HELLO \n",
      " lower case hello\n"
     ]
    }
   ],
   "source": [
    "#question 9\n",
    "x=input(\"enter a word\")\n",
    "print(\"upper case\",x.upper(),'\\n',\"lower case\",x.lower())"
   ]
  },
  {
   "cell_type": "markdown",
   "id": "744a79a6",
   "metadata": {},
   "source": [
    "10.\tWrite a Python function to get a string made of 4 copies of the last two characters of a specified string (length must be at least 2).\n",
    "Sample function and result :\n",
    "insert_end('Python') -> onononon\n",
    "insert_end('Exercises') -> eseseses\n"
   ]
  },
  {
   "cell_type": "code",
   "execution_count": 42,
   "id": "35146332",
   "metadata": {},
   "outputs": [],
   "source": [
    "#question 10\n",
    "\n",
    "def insert_end(x):\n",
    "    if len(x)>2:\n",
    "        a=x[-2:]*4\n",
    "        print(a)\n",
    "        return a\n"
   ]
  },
  {
   "cell_type": "code",
   "execution_count": 45,
   "id": "10674873",
   "metadata": {},
   "outputs": [
    {
     "name": "stdout",
     "output_type": "stream",
     "text": [
      "eseseses\n"
     ]
    },
    {
     "data": {
      "text/plain": [
       "'eseseses'"
      ]
     },
     "execution_count": 45,
     "metadata": {},
     "output_type": "execute_result"
    }
   ],
   "source": [
    "insert_end('Exercises')"
   ]
  },
  {
   "cell_type": "markdown",
   "id": "dc09ba7d",
   "metadata": {},
   "source": [
    "11.\tWrite a Python function to get a string made of the first three characters of a specified string. If the length of the string is less than 3, return the original string.\n",
    "Sample function and result :\n",
    "first_three('ipy') -> ipy\n",
    "first_three('python') -> pyt\n"
   ]
  },
  {
   "cell_type": "code",
   "execution_count": 50,
   "id": "daf9f23d",
   "metadata": {},
   "outputs": [],
   "source": [
    "#question 11\n",
    "def fst3(x):\n",
    "    if len(x)>3:\n",
    "        print(x[:3])\n",
    "    else:\n",
    "        print(x)\n",
    "    \n"
   ]
  },
  {
   "cell_type": "code",
   "execution_count": 51,
   "id": "90c7693f",
   "metadata": {},
   "outputs": [
    {
     "name": "stdout",
     "output_type": "stream",
     "text": [
      "pyt\n"
     ]
    }
   ],
   "source": [
    "fst3('python')"
   ]
  },
  {
   "cell_type": "code",
   "execution_count": null,
   "id": "817a7dce",
   "metadata": {},
   "outputs": [],
   "source": []
  }
 ],
 "metadata": {
  "kernelspec": {
   "display_name": "Python 3 (ipykernel)",
   "language": "python",
   "name": "python3"
  },
  "language_info": {
   "codemirror_mode": {
    "name": "ipython",
    "version": 3
   },
   "file_extension": ".py",
   "mimetype": "text/x-python",
   "name": "python",
   "nbconvert_exporter": "python",
   "pygments_lexer": "ipython3",
   "version": "3.9.13"
  }
 },
 "nbformat": 4,
 "nbformat_minor": 5
}
