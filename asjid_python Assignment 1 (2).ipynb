{
 "cells": [
  {
   "cell_type": "markdown",
   "id": "487f3e86",
   "metadata": {},
   "source": [
    "1. WRITE A PYTHON PROGRAM TO ADD TWO MATRICES USING NESTED FOR LOOP\n",
    "X=[[1,2,3], [4,5,6], [2,4,6]]\n",
    "Y=[[1,4,5], [3,6,9], [2,3,5]]\n"
   ]
  },
  {
   "cell_type": "code",
   "execution_count": null,
   "id": "90230d4f",
   "metadata": {},
   "outputs": [],
   "source": [
    "X=[[1,2,3],[4,5,6],[2,4,6]] \n",
    "Y=[[1,4,5],[3,6,9],[2,3,5]]\n",
    "for i in range(3):\n",
    "    for j in range(3):\n",
    "        X[i][j]=X[i][j]+Y[i][j]\n",
    "for i in X:\n",
    "    print(i)\n",
    "    \n",
    "        "
   ]
  },
  {
   "cell_type": "markdown",
   "id": "31737830",
   "metadata": {},
   "source": [
    "2.WRITE A PYTHON PROGRAM TO TRANSPOSE TWO MATRICES USING NESTED FOR\n",
    "LOOP\n",
    "X=[[1,4,7], [2,3,5], [2,4,6]]\n",
    "Y=[[1,4,5], [3,6,9], [2,3,5]]\n"
   ]
  },
  {
   "cell_type": "code",
   "execution_count": null,
   "id": "af164c67",
   "metadata": {},
   "outputs": [],
   "source": [
    "X=[[1,4,7],[2,3,5],[2,4,6]]\n",
    "Y=[[1,4,5],[3,6,9],[2,3,5]]\n",
    "r=[[0,0,0],[0,0,0],[0,0,0]]\n",
    "q=[[0,0,0],[0,0,0],[0,0,0]]\n",
    "for i in range(3):\n",
    "    for j in range(3):\n",
    "        r[i][j]=X[j][i]\n",
    "        q[i][j]=Y[j][i]\n",
    "for i in r:\n",
    "    print(i)\n",
    "print('2')\n",
    "for i in q:\n",
    "    print(i)"
   ]
  },
  {
   "cell_type": "code",
   "execution_count": null,
   "id": "6153a89b",
   "metadata": {},
   "outputs": [],
   "source": [
    "q"
   ]
  },
  {
   "cell_type": "markdown",
   "id": "9144eb8b",
   "metadata": {},
   "source": [
    "3. WRITE A PYTHON PROGRAM TO MULTIPLY TWO MATRICES USING NESTED FOR\n",
    "LOOP\n",
    "X=[[1,2,3], [4,5,6], [2,4,6]]\n",
    "Y=[[1,4,5,2], [3,6,9,5], [2,3,5,1]]\n"
   ]
  },
  {
   "cell_type": "code",
   "execution_count": null,
   "id": "2e2b0221",
   "metadata": {},
   "outputs": [],
   "source": [
    "X=[[1,2,3],[4,5,6],[2,4,6]] \n",
    "Y=[[1,4,5,2],[3,6,9,5],[2,3,5,1]]\n",
    "r=[[0,0,0,0],[0,0,0,0],[0,0,0,0]]\n",
    "for i in range(3):\n",
    "    for j in range(4):\n",
    "        for k in range(3):\n",
    "            r[i][j]+=X[i][k]*Y[k][j]\n",
    "for i in r:\n",
    "    print(i)"
   ]
  },
  {
   "cell_type": "markdown",
   "id": "33f7b515",
   "metadata": {},
   "source": [
    "4.Python program to convert the temperature in degree centigrade to Fahrenheit"
   ]
  },
  {
   "cell_type": "code",
   "execution_count": null,
   "id": "17e98417",
   "metadata": {},
   "outputs": [],
   "source": [
    "# 1 degree centigrade = 33.8 Fahrenheit"
   ]
  },
  {
   "cell_type": "code",
   "execution_count": null,
   "id": "2f1e04ee",
   "metadata": {},
   "outputs": [],
   "source": [
    "x=int(input('enter the temperature in degree centigrade'))\n",
    "print(x*33.8,' Fahrenheit')"
   ]
  },
  {
   "cell_type": "markdown",
   "id": "2612aadd",
   "metadata": {},
   "source": [
    "5.Python program to find the sum of the digits of an integer using a while loop"
   ]
  },
  {
   "cell_type": "code",
   "execution_count": null,
   "id": "a9d97cb2",
   "metadata": {},
   "outputs": [],
   "source": [
    "x=int(input('enter a number'))\n",
    "a=0\n",
    "b=-1\n",
    "while(x>0):\n",
    "    a+=x%10\n",
    "    x=x//10\n",
    "print('sum is ',a)\n",
    "    \n",
    "    "
   ]
  },
  {
   "cell_type": "markdown",
   "id": "a4216ceb",
   "metadata": {},
   "source": [
    "6. Make a two-player Rock-Paper-Scissors game. (Hint: Ask for player plays (using input),\n",
    "compare them, print out a message of congratulations to the winner, and ask if the players\n",
    "want to start a new game)"
   ]
  },
  {
   "cell_type": "code",
   "execution_count": 3,
   "id": "9e3deac9",
   "metadata": {},
   "outputs": [
    {
     "name": "stdout",
     "output_type": "stream",
     "text": [
      "enter your move :rock\n",
      "enter your move :paper\n",
      "yis the winner , Congratulations\n",
      "do you want to play again :no\n",
      "do you want to play again :no\n"
     ]
    }
   ],
   "source": [
    "x=''\n",
    "y=''\n",
    "while(x!='no'and y!='no'):\n",
    "    x=input('enter your move :')\n",
    "    y=input('enter your move :')\n",
    "    x=x.lower()\n",
    "    y=y.lower()\n",
    "    if x=='rock' and y=='paper':\n",
    "        print('y''is the winner , Congratulations')\n",
    "    elif x=='paper'and y=='rock':\n",
    "        print('x''is the winner , Congratulations')\n",
    "    elif x=='rock' and y=='scissor':\n",
    "        print('x''is the winner , Congratulations')\n",
    "    elif x=='scissor' and y=='rock':\n",
    "        print('y''is the winner , Congratulations')\n",
    "    elif x=='paper'and y=='scissor':\n",
    "        print('y''is the winner , Congratulations')\n",
    "    elif x=='scissor'and y=='paper':\n",
    "        print('x''is the winner , Congratulations')\n",
    "    elif x=='stop' or y=='stop':\n",
    "        print('game over')\n",
    "    else:\n",
    "        print('play again')\n",
    "    x=input('do you want to play again :')\n",
    "    y=input('do you want to play again :')\n",
    "    "
   ]
  },
  {
   "cell_type": "code",
   "execution_count": null,
   "id": "35da2d08",
   "metadata": {},
   "outputs": [],
   "source": []
  }
 ],
 "metadata": {
  "kernelspec": {
   "display_name": "Python 3 (ipykernel)",
   "language": "python",
   "name": "python3"
  },
  "language_info": {
   "codemirror_mode": {
    "name": "ipython",
    "version": 3
   },
   "file_extension": ".py",
   "mimetype": "text/x-python",
   "name": "python",
   "nbconvert_exporter": "python",
   "pygments_lexer": "ipython3",
   "version": "3.9.13"
  }
 },
 "nbformat": 4,
 "nbformat_minor": 5
}
