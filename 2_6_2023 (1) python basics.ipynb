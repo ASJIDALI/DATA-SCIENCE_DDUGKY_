{
 "cells": [
  {
   "cell_type": "markdown",
   "id": "8f4bf449",
   "metadata": {},
   "source": [
    "# format()"
   ]
  },
  {
   "cell_type": "code",
   "execution_count": 67,
   "id": "738fda2e",
   "metadata": {},
   "outputs": [
    {
     "name": "stdout",
     "output_type": "stream",
     "text": [
      "My name is Asjid Ali , age is 24\n"
     ]
    }
   ],
   "source": [
    "name=\"Asjid Ali\"\n",
    "age=\"24\"\n",
    "txt=\"My name is {} , age is {}\"\n",
    "print(txt.format(name,age))"
   ]
  },
  {
   "cell_type": "code",
   "execution_count": 68,
   "id": "325e07f3",
   "metadata": {},
   "outputs": [
    {
     "name": "stdout",
     "output_type": "stream",
     "text": [
      "My name is 24, age is Asjid Ali\n"
     ]
    }
   ],
   "source": [
    "t1='My name is {1}, age is {0}'\n",
    "print(t1.format(name,age))"
   ]
  },
  {
   "cell_type": "markdown",
   "id": "9b45bb65",
   "metadata": {},
   "source": [
    "# input"
   ]
  },
  {
   "cell_type": "code",
   "execution_count": 69,
   "id": "ff76ba7b",
   "metadata": {},
   "outputs": [
    {
     "name": "stdout",
     "output_type": "stream",
     "text": [
      "enter your name:asjid\n",
      "asjid\n"
     ]
    }
   ],
   "source": [
    "x=input('enter your name:')\n",
    "print(x)"
   ]
  },
  {
   "cell_type": "code",
   "execution_count": 70,
   "id": "347b554b",
   "metadata": {},
   "outputs": [
    {
     "name": "stdout",
     "output_type": "stream",
     "text": [
      "enter a  number :3\n",
      "3\n"
     ]
    }
   ],
   "source": [
    "y=int(input('enter a  number :'))\n",
    "print(y)"
   ]
  },
  {
   "cell_type": "markdown",
   "id": "cfa02f21",
   "metadata": {},
   "source": [
    "# List"
   ]
  },
  {
   "cell_type": "code",
   "execution_count": 71,
   "id": "35f77a0a",
   "metadata": {},
   "outputs": [],
   "source": [
    "#collection data type \n",
    "#it is changable and ordered\n",
    "#written in []"
   ]
  },
  {
   "cell_type": "code",
   "execution_count": 72,
   "id": "25a47397",
   "metadata": {},
   "outputs": [],
   "source": [
    "l1=['a','b','c','d']\n",
    "l2=[1,2,3,4]\n",
    "l3=['a','b',1,2]"
   ]
  },
  {
   "cell_type": "code",
   "execution_count": 73,
   "id": "795b8c8a",
   "metadata": {},
   "outputs": [
    {
     "data": {
      "text/plain": [
       "['a', 'b', 'c', 'd', 1, 2, 3, 4]"
      ]
     },
     "execution_count": 73,
     "metadata": {},
     "output_type": "execute_result"
    }
   ],
   "source": [
    "l4=l1+l2\n",
    "l4"
   ]
  },
  {
   "cell_type": "code",
   "execution_count": 74,
   "id": "4bf8a381",
   "metadata": {},
   "outputs": [
    {
     "data": {
      "text/plain": [
       "4"
      ]
     },
     "execution_count": 74,
     "metadata": {},
     "output_type": "execute_result"
    }
   ],
   "source": [
    "len(l1)"
   ]
  },
  {
   "cell_type": "code",
   "execution_count": 75,
   "id": "795646ca",
   "metadata": {},
   "outputs": [
    {
     "data": {
      "text/plain": [
       "'a'"
      ]
     },
     "execution_count": 75,
     "metadata": {},
     "output_type": "execute_result"
    }
   ],
   "source": [
    "l1[0]"
   ]
  },
  {
   "cell_type": "code",
   "execution_count": 76,
   "id": "14680067",
   "metadata": {},
   "outputs": [
    {
     "data": {
      "text/plain": [
       "'b'"
      ]
     },
     "execution_count": 76,
     "metadata": {},
     "output_type": "execute_result"
    }
   ],
   "source": [
    "l1[1]"
   ]
  },
  {
   "cell_type": "code",
   "execution_count": 77,
   "id": "1432036d",
   "metadata": {},
   "outputs": [
    {
     "data": {
      "text/plain": [
       "'d'"
      ]
     },
     "execution_count": 77,
     "metadata": {},
     "output_type": "execute_result"
    }
   ],
   "source": [
    "l1[-1]"
   ]
  },
  {
   "cell_type": "code",
   "execution_count": 78,
   "id": "11e7821c",
   "metadata": {},
   "outputs": [
    {
     "data": {
      "text/plain": [
       "['a', 'b']"
      ]
     },
     "execution_count": 78,
     "metadata": {},
     "output_type": "execute_result"
    }
   ],
   "source": [
    "l1[0:2]"
   ]
  },
  {
   "cell_type": "code",
   "execution_count": 79,
   "id": "f9d3bdb6",
   "metadata": {},
   "outputs": [
    {
     "data": {
      "text/plain": [
       "['c', 'd']"
      ]
     },
     "execution_count": 79,
     "metadata": {},
     "output_type": "execute_result"
    }
   ],
   "source": [
    "l1[2:]"
   ]
  },
  {
   "cell_type": "code",
   "execution_count": 80,
   "id": "6b81d37d",
   "metadata": {},
   "outputs": [
    {
     "data": {
      "text/plain": [
       "[1, 2, 3, 4, 1]"
      ]
     },
     "execution_count": 80,
     "metadata": {},
     "output_type": "execute_result"
    }
   ],
   "source": [
    "l5=[1,2,3,4,1]\n",
    "l5"
   ]
  },
  {
   "cell_type": "code",
   "execution_count": 81,
   "id": "74572407",
   "metadata": {},
   "outputs": [],
   "source": [
    "l1[0]='A'"
   ]
  },
  {
   "cell_type": "code",
   "execution_count": 82,
   "id": "0082a63e",
   "metadata": {},
   "outputs": [
    {
     "data": {
      "text/plain": [
       "['A', 'b', 'c', 'd']"
      ]
     },
     "execution_count": 82,
     "metadata": {},
     "output_type": "execute_result"
    }
   ],
   "source": [
    "l1"
   ]
  },
  {
   "cell_type": "code",
   "execution_count": 83,
   "id": "c08c7d96",
   "metadata": {},
   "outputs": [
    {
     "data": {
      "text/plain": [
       "['A', 'B', 'C', 'D']"
      ]
     },
     "execution_count": 83,
     "metadata": {},
     "output_type": "execute_result"
    }
   ],
   "source": [
    "l1[1:]=['B','C','D']\n",
    "l1"
   ]
  },
  {
   "cell_type": "code",
   "execution_count": 84,
   "id": "8a4764de",
   "metadata": {},
   "outputs": [
    {
     "data": {
      "text/plain": [
       "['A', 'B', 'C', 'D', 'E']"
      ]
     },
     "execution_count": 84,
     "metadata": {},
     "output_type": "execute_result"
    }
   ],
   "source": [
    "l1.append('E')\n",
    "l1"
   ]
  },
  {
   "cell_type": "code",
   "execution_count": 85,
   "id": "e0960424",
   "metadata": {},
   "outputs": [
    {
     "data": {
      "text/plain": [
       "['A', 'B', 'C', 'D', 'E', 1, 2, 3, 4]"
      ]
     },
     "execution_count": 85,
     "metadata": {},
     "output_type": "execute_result"
    }
   ],
   "source": [
    "l1.extend(l2)\n",
    "l1"
   ]
  },
  {
   "cell_type": "code",
   "execution_count": 86,
   "id": "d675d9fd",
   "metadata": {},
   "outputs": [
    {
     "data": {
      "text/plain": [
       "['B', 'C', 'D', 'E', 1, 2, 3, 4]"
      ]
     },
     "execution_count": 86,
     "metadata": {},
     "output_type": "execute_result"
    }
   ],
   "source": [
    "l1.pop(0)\n",
    "l1"
   ]
  },
  {
   "cell_type": "code",
   "execution_count": 87,
   "id": "da69c778",
   "metadata": {},
   "outputs": [
    {
     "data": {
      "text/plain": [
       "['B', 'C', 'D', 'E', 1, 2, 3]"
      ]
     },
     "execution_count": 87,
     "metadata": {},
     "output_type": "execute_result"
    }
   ],
   "source": [
    "l1.pop()\n",
    "l1"
   ]
  },
  {
   "cell_type": "code",
   "execution_count": 88,
   "id": "cea9eb4f",
   "metadata": {},
   "outputs": [
    {
     "data": {
      "text/plain": [
       "['C', 'D', 'E', 1, 2, 3]"
      ]
     },
     "execution_count": 88,
     "metadata": {},
     "output_type": "execute_result"
    }
   ],
   "source": [
    "del l1[0]\n",
    "l1"
   ]
  },
  {
   "cell_type": "code",
   "execution_count": 89,
   "id": "a5e81fb9",
   "metadata": {},
   "outputs": [
    {
     "data": {
      "text/plain": [
       "['B', 'C', 'D', 'E', 1, 2, 3]"
      ]
     },
     "execution_count": 89,
     "metadata": {},
     "output_type": "execute_result"
    }
   ],
   "source": [
    "l1.insert(0,'B')\n",
    "l1"
   ]
  },
  {
   "cell_type": "code",
   "execution_count": null,
   "id": "3ddb7b5a",
   "metadata": {},
   "outputs": [],
   "source": []
  }
 ],
 "metadata": {
  "kernelspec": {
   "display_name": "Python 3 (ipykernel)",
   "language": "python",
   "name": "python3"
  },
  "language_info": {
   "codemirror_mode": {
    "name": "ipython",
    "version": 3
   },
   "file_extension": ".py",
   "mimetype": "text/x-python",
   "name": "python",
   "nbconvert_exporter": "python",
   "pygments_lexer": "ipython3",
   "version": "3.9.13"
  }
 },
 "nbformat": 4,
 "nbformat_minor": 5
}
