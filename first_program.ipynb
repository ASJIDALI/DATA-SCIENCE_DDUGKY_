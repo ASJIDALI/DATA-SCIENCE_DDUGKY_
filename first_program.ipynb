{
 "cells": [
  {
   "cell_type": "code",
   "execution_count": 7,
   "id": "0af81c42",
   "metadata": {},
   "outputs": [],
   "source": [
    "#comments\n",
    "#dhghjkgh\n",
    "#dfhfhj\n",
    "#print(\"wfrhty\")"
   ]
  },
  {
   "cell_type": "code",
   "execution_count": 12,
   "id": "c8b11134",
   "metadata": {},
   "outputs": [
    {
     "name": "stdout",
     "output_type": "stream",
     "text": [
      "jkgckdfvkd\n"
     ]
    }
   ],
   "source": [
    "a=5.9\n",
    "b=\"jkgckdfvkd\"\n",
    "c='fhtuk'\n",
    "print(b)"
   ]
  },
  {
   "cell_type": "code",
   "execution_count": 13,
   "id": "97eb97f4",
   "metadata": {},
   "outputs": [
    {
     "name": "stdout",
     "output_type": "stream",
     "text": [
      "5.9\n",
      "6\n"
     ]
    }
   ],
   "source": [
    "print(a)\n",
    "a=6\n",
    "print(a)"
   ]
  },
  {
   "cell_type": "code",
   "execution_count": 14,
   "id": "68003243",
   "metadata": {},
   "outputs": [
    {
     "name": "stdout",
     "output_type": "stream",
     "text": [
      "6\n"
     ]
    }
   ],
   "source": [
    "A=7\n",
    "print(a)"
   ]
  },
  {
   "cell_type": "code",
   "execution_count": 21,
   "id": "3e0d7789",
   "metadata": {},
   "outputs": [
    {
     "name": "stdout",
     "output_type": "stream",
     "text": [
      "10000\n"
     ]
    }
   ],
   "source": [
    "_SalarY=12000\n",
    "print(_salary)"
   ]
  },
  {
   "cell_type": "code",
   "execution_count": 25,
   "id": "b21dea69",
   "metadata": {},
   "outputs": [
    {
     "name": "stdout",
     "output_type": "stream",
     "text": [
      "12000\n"
     ]
    }
   ],
   "source": [
    "9SalN a09rY=12000\n",
    "print(_SalarY)"
   ]
  },
  {
   "cell_type": "code",
   "execution_count": null,
   "id": "a8f367b6",
   "metadata": {},
   "outputs": [],
   "source": [
    "INTEGER INT\n",
    "FLOAT\n",
    "STR\n",
    "BOOL\n",
    "LIST\n",
    "TUPLE\n",
    "SET\n",
    "DICTIONARY"
   ]
  },
  {
   "cell_type": "code",
   "execution_count": 32,
   "id": "15c61f69",
   "metadata": {},
   "outputs": [
    {
     "name": "stdout",
     "output_type": "stream",
     "text": [
      "1\n"
     ]
    }
   ],
   "source": [
    "A=6\n",
    "B=5\n",
    "print(A//B)"
   ]
  },
  {
   "cell_type": "code",
   "execution_count": 33,
   "id": "9750199d",
   "metadata": {},
   "outputs": [],
   "source": [
    "#Assign a name to a variable and print it."
   ]
  },
  {
   "cell_type": "code",
   "execution_count": 34,
   "id": "622eece3",
   "metadata": {},
   "outputs": [
    {
     "name": "stdout",
     "output_type": "stream",
     "text": [
      "Asjid\n"
     ]
    }
   ],
   "source": [
    "a=\"Asjid\"\n",
    "print(a)"
   ]
  },
  {
   "cell_type": "code",
   "execution_count": 36,
   "id": "0fef7623",
   "metadata": {},
   "outputs": [
    {
     "name": "stdout",
     "output_type": "stream",
     "text": [
      "ali\n"
     ]
    }
   ],
   "source": [
    "#Create a variable starting with underscore and print it.\n",
    "_a=\"ali\"\n",
    "print(_a)"
   ]
  },
  {
   "cell_type": "code",
   "execution_count": 37,
   "id": "178200d5",
   "metadata": {},
   "outputs": [
    {
     "name": "stdout",
     "output_type": "stream",
     "text": [
      "1\n",
      "1.22\n",
      "asjid\n"
     ]
    }
   ],
   "source": [
    "#Create variables x, y, z. Assign an integer value to x, float value to y and a string value to z.Print it.\n",
    "x=1\n",
    "y=1.22\n",
    "z=\"asjid\"\n",
    "print(x)\n",
    "print(y)\n",
    "print(z)"
   ]
  },
  {
   "cell_type": "code",
   "execution_count": 38,
   "id": "6a9db3c7",
   "metadata": {},
   "outputs": [],
   "source": [
    "#“Python is a popular programming language . I t was created by Guido Van Rossum andreleased in 1991.”- comment the sentence\n",
    "\n",
    "#Python is a popular programming language . I t was created by Guido Van Rossum andreleased in 1991."
   ]
  },
  {
   "cell_type": "code",
   "execution_count": 50,
   "id": "3bca623b",
   "metadata": {},
   "outputs": [
    {
     "name": "stdout",
     "output_type": "stream",
     "text": [
      "orange\n",
      "orange\n",
      "orange\n"
     ]
    }
   ],
   "source": [
    "#Assign value “orange” to any three variables.\n",
    "b=\"orange\"\n",
    "_b=\"orange\"\n",
    "_b_=\"orange\"\n",
    "b=_b=_b_=\"orange\"\n",
    "print(b)\n",
    "print(_b)\n",
    "print(_b_)"
   ]
  },
  {
   "cell_type": "code",
   "execution_count": 49,
   "id": "5a14485c",
   "metadata": {},
   "outputs": [
    {
     "name": "stdout",
     "output_type": "stream",
     "text": [
      "3\n",
      "4\n",
      "5\n"
     ]
    }
   ],
   "source": [
    "#Assign 3,4,5 to x, y, z.\n",
    "x,y,z=3,4,5\n",
    "print(3)\n",
    "print(4)\n",
    "print(5)"
   ]
  },
  {
   "cell_type": "code",
   "execution_count": 43,
   "id": "cf586d27",
   "metadata": {},
   "outputs": [
    {
     "name": "stdout",
     "output_type": "stream",
     "text": [
      "Volvo\n"
     ]
    }
   ],
   "source": [
    "#Create a variable named carname and assign the value Volvo to it.\n",
    "carname=\"Volvo\"\n",
    "print(carname)"
   ]
  },
  {
   "cell_type": "code",
   "execution_count": 44,
   "id": "a61e48a5",
   "metadata": {},
   "outputs": [
    {
     "name": "stdout",
     "output_type": "stream",
     "text": [
      "50\n"
     ]
    }
   ],
   "source": [
    "#Create a variable named x and assign the value 50 to it.\n",
    "x=50\n",
    "print(x)"
   ]
  },
  {
   "cell_type": "code",
   "execution_count": 48,
   "id": "ca7ad59a",
   "metadata": {},
   "outputs": [
    {
     "name": "stdout",
     "output_type": "stream",
     "text": [
      "John\n"
     ]
    }
   ],
   "source": [
    "#Remove the illegal characters in the variable name. Then print it:\n",
    "my_first_name = \"John\"\n",
    "print(my_first_name)\n"
   ]
  },
  {
   "cell_type": "code",
   "execution_count": null,
   "id": "351b75c0",
   "metadata": {},
   "outputs": [],
   "source": [
    "a=b=c=5\n",
    "x,y,z=1,2,3"
   ]
  }
 ],
 "metadata": {
  "kernelspec": {
   "display_name": "Python 3 (ipykernel)",
   "language": "python",
   "name": "python3"
  },
  "language_info": {
   "codemirror_mode": {
    "name": "ipython",
    "version": 3
   },
   "file_extension": ".py",
   "mimetype": "text/x-python",
   "name": "python",
   "nbconvert_exporter": "python",
   "pygments_lexer": "ipython3",
   "version": "3.9.13"
  }
 },
 "nbformat": 4,
 "nbformat_minor": 5
}
