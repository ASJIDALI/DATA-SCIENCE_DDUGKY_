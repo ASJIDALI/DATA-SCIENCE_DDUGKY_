{
 "cells": [
  {
   "cell_type": "markdown",
   "id": "0b046a98",
   "metadata": {},
   "source": [
    "1. Write a Python function to sum all the numbers in a list.\n",
    "Sample List : (8, 2, 3, 0, 7)\n",
    "Expected Output : 20"
   ]
  },
  {
   "cell_type": "code",
   "execution_count": 7,
   "id": "48542089",
   "metadata": {},
   "outputs": [
    {
     "name": "stdout",
     "output_type": "stream",
     "text": [
      "enter the length of the string 5\n",
      "enter the value8\n",
      "enter the value2\n",
      "enter the value3\n",
      "enter the value0\n",
      "enter the value7\n",
      "[8, 2, 3, 0, 7]\n"
     ]
    },
    {
     "data": {
      "text/plain": [
       "20"
      ]
     },
     "execution_count": 7,
     "metadata": {},
     "output_type": "execute_result"
    }
   ],
   "source": [
    "def sum_l():\n",
    "    l=[]\n",
    "    x=int(input('enter the length of the string '))\n",
    "    for i in range(x):\n",
    "        y=int(input('enter the value'))\n",
    "        l.append(y)\n",
    "    print(l)\n",
    "    a=0\n",
    "    for i in l:\n",
    "        a+=i\n",
    "    return a\n",
    "sum_l()\n",
    "\n",
    "    "
   ]
  },
  {
   "cell_type": "markdown",
   "id": "e379ab6c",
   "metadata": {},
   "source": [
    "2. Write a Python function to multiply all the numbers in a list.\n",
    "Sample List : (8, 2, 3, -1, 7)\n",
    "Expected Output : -336"
   ]
  },
  {
   "cell_type": "code",
   "execution_count": 2,
   "id": "d83e160d",
   "metadata": {},
   "outputs": [
    {
     "name": "stdout",
     "output_type": "stream",
     "text": [
      "enter the length of the string 5\n",
      "enter the value8\n",
      "enter the value2\n",
      "enter the value3\n",
      "enter the value-1\n",
      "enter the value7\n",
      "[8, 2, 3, -1, 7]\n"
     ]
    },
    {
     "data": {
      "text/plain": [
       "-336"
      ]
     },
     "execution_count": 2,
     "metadata": {},
     "output_type": "execute_result"
    }
   ],
   "source": [
    "def multi():\n",
    "    l=[]\n",
    "    x=int(input('enter the length of the string '))\n",
    "    for i in range(x):\n",
    "        y=int(input('enter the value'))\n",
    "        l.append(y)\n",
    "    print(l)\n",
    "    a=1\n",
    "    for i in l:\n",
    "        a*=i\n",
    "    return a\n",
    "multi()"
   ]
  },
  {
   "cell_type": "markdown",
   "id": "099663eb",
   "metadata": {},
   "source": [
    "3. Write a Python function to calculate the factorial of a number (a non-negative\n",
    "integer). The function accepts the number as an argument."
   ]
  },
  {
   "cell_type": "code",
   "execution_count": 16,
   "id": "6dd4379c",
   "metadata": {},
   "outputs": [
    {
     "name": "stdout",
     "output_type": "stream",
     "text": [
      "enter a positive number\n"
     ]
    },
    {
     "data": {
      "text/plain": [
       "1"
      ]
     },
     "execution_count": 16,
     "metadata": {},
     "output_type": "execute_result"
    }
   ],
   "source": [
    "def facto(x):\n",
    "    a=1\n",
    "    if x>0:\n",
    "        while x>0:\n",
    "            a*=x\n",
    "            x=x-1\n",
    "    else:\n",
    "        print('enter a positive number')\n",
    "    return a\n",
    "facto(-1)\n",
    "    "
   ]
  },
  {
   "cell_type": "markdown",
   "id": "46e33d00",
   "metadata": {},
   "source": [
    "4. Write a Python function to check whether a number falls within a given range."
   ]
  },
  {
   "cell_type": "code",
   "execution_count": 5,
   "id": "e2b3e5e9",
   "metadata": {},
   "outputs": [
    {
     "name": "stdout",
     "output_type": "stream",
     "text": [
      "enter the range from 2\n",
      "enter the range to 8\n"
     ]
    },
    {
     "data": {
      "text/plain": [
       "(5, ' is in the range from ', 2, ' to ', 8)"
      ]
     },
     "execution_count": 5,
     "metadata": {},
     "output_type": "execute_result"
    }
   ],
   "source": [
    "def find_rang(x):\n",
    "    a=int(input('enter the range from '))\n",
    "    b=int(input('enter the range to '))\n",
    "    if x>a and x<b:\n",
    "        return  x,' is in the range from ',a,' to ',b\n",
    "    else:\n",
    "        return  x,' is not with in the range'\n",
    "find_rang(5)"
   ]
  },
  {
   "cell_type": "markdown",
   "id": "79a0c6fc",
   "metadata": {},
   "source": [
    "5. Write a Python function that accepts a string and counts the number of upper and\n",
    "lower case letters.\n",
    "Sample String : &#39;The quick Brow Fox&#39;\n",
    "Expected Output :\n",
    "No. of Upper case characters : 3\n",
    "No. of Lower case Characters : 12"
   ]
  },
  {
   "cell_type": "code",
   "execution_count": 37,
   "id": "b31a02b1",
   "metadata": {},
   "outputs": [
    {
     "data": {
      "text/plain": [
       "('Upper :', 3, 'lower :', 12)"
      ]
     },
     "execution_count": 37,
     "metadata": {},
     "output_type": "execute_result"
    }
   ],
   "source": [
    "def count_n(x):\n",
    "    a=0\n",
    "    b=0\n",
    "    for i in range(len(x)):\n",
    "        if x[i].islower()==True:\n",
    "            a+=1\n",
    "        elif x[i].isupper()==True:\n",
    "            b+=1\n",
    "        elif x[i]==' ':\n",
    "            pass\n",
    "        else:\n",
    "            return('try again')\n",
    "    return('Upper :',b,'lower :',a)\n",
    "count_n('The quick Brow Fox' )    "
   ]
  },
  {
   "cell_type": "markdown",
   "id": "da6d58b6",
   "metadata": {},
   "source": [
    "6. Write a Python function that takes a list and returns a new list with distinct elements\n",
    "from the first list.\n",
    "Sample List : [1,2,3,3,3,3,4,5]\n",
    "Unique List : [1, 2, 3, 4, 5]"
   ]
  },
  {
   "cell_type": "code",
   "execution_count": 11,
   "id": "387f9e4e",
   "metadata": {},
   "outputs": [
    {
     "data": {
      "text/plain": [
       "[1, 2, 3, 4, 5]"
      ]
     },
     "execution_count": 11,
     "metadata": {},
     "output_type": "execute_result"
    }
   ],
   "source": [
    "x=[1,2,3,3,3,3,4,5]\n",
    "def lis(x):\n",
    "    a=set(x)\n",
    "    q=list(a)\n",
    "    return q\n",
    "\n",
    "lis(x)\n",
    "    \n",
    "    "
   ]
  },
  {
   "cell_type": "markdown",
   "id": "d6317ab8",
   "metadata": {},
   "source": [
    "7. Write a Python function that takes a number as a parameter and checks whether the\n",
    "number is prime or not."
   ]
  },
  {
   "cell_type": "code",
   "execution_count": 79,
   "id": "b7228bf6",
   "metadata": {},
   "outputs": [
    {
     "data": {
      "text/plain": [
       "'it is not prime'"
      ]
     },
     "execution_count": 79,
     "metadata": {},
     "output_type": "execute_result"
    }
   ],
   "source": [
    "def pri(x):\n",
    "    if x==1:\n",
    "        return 'not prime'\n",
    "    elif x>3:\n",
    "                for i in range(1,x):\n",
    "                    if 6*i-1==x or 6*i+1==x:\n",
    "                        return 'it is prime'\n",
    "                    else:\n",
    "                        return 'it is not prime'\n",
    "    else:\n",
    "        return 'its prime'\n",
    "\n",
    "pri(13)"
   ]
  },
  {
   "cell_type": "markdown",
   "id": "8d0c5090",
   "metadata": {},
   "source": [
    "8. Write a Python function to check whether a number is &quot;Perfect&quot; or not.pri(6)"
   ]
  },
  {
   "cell_type": "code",
   "execution_count": 75,
   "id": "3c97de95",
   "metadata": {},
   "outputs": [
    {
     "name": "stdout",
     "output_type": "stream",
     "text": [
      "not perfect\n"
     ]
    }
   ],
   "source": [
    "def pernum(x):\n",
    "    a=0\n",
    "    for i in range(1,x):\n",
    "        if x%i==0:\n",
    "            a+=i\n",
    "    if a==x:\n",
    "        print('perfect')\n",
    "    else:\n",
    "        print('not perfect')\n",
    "pernum(7)"
   ]
  },
  {
   "cell_type": "markdown",
   "id": "f7b98109",
   "metadata": {},
   "source": [
    "9. Write a Python function that checks whether a passed string is a palindrome or not."
   ]
  },
  {
   "cell_type": "code",
   "execution_count": 39,
   "id": "6138e054",
   "metadata": {},
   "outputs": [],
   "source": [
    "def pali(x):\n",
    "    a=x[::-1]\n",
    "    if a==x:\n",
    "        return('it is palindrome')\n",
    "    else:\n",
    "        return('it is not')"
   ]
  },
  {
   "cell_type": "code",
   "execution_count": 40,
   "id": "3bc464da",
   "metadata": {},
   "outputs": [
    {
     "data": {
      "text/plain": [
       "'it is palindrome'"
      ]
     },
     "execution_count": 40,
     "metadata": {},
     "output_type": "execute_result"
    }
   ],
   "source": [
    "pali('malayalam')"
   ]
  },
  {
   "cell_type": "markdown",
   "id": "f836fc0d",
   "metadata": {},
   "source": [
    "10. Write a Python function to check whether a string is a pangram or not.\n",
    "Note : Pangrams are words or sentences containing every letter of the alphabet at least\n",
    "once.\n",
    "For example : &quot;The quick brown fox jumps over the lazy dog&quot;"
   ]
  },
  {
   "cell_type": "code",
   "execution_count": 104,
   "id": "0da65c5a",
   "metadata": {},
   "outputs": [
    {
     "name": "stdout",
     "output_type": "stream",
     "text": [
      "enter a word or sentence  The quick brown fox jumps over the lazy dog\n"
     ]
    },
    {
     "data": {
      "text/plain": [
       "'it is pangram'"
      ]
     },
     "execution_count": 104,
     "metadata": {},
     "output_type": "execute_result"
    }
   ],
   "source": [
    "def pang():\n",
    "    z=0\n",
    "    x=input('enter a word or sentence  ')\n",
    "    a1=['a','b','c','d','e','f','g','h','i','j','k','l','m','n','o','p','q','r','s','t','u','v','w','x','y','z']\n",
    "    a2=[]\n",
    "    for i in range(len(a1)):\n",
    "        for j in x:\n",
    "            if a1[i]==j:\n",
    "                a2.append(j)\n",
    "    a3=set(a2)\n",
    "    a4=list(a3)            \n",
    "    if len(a1)==len(a4):\n",
    "        return 'it is pangram'\n",
    "    else:\n",
    "        return 'not pangram'\n",
    "\n",
    "pang()"
   ]
  },
  {
   "cell_type": "markdown",
   "id": "088fde53",
   "metadata": {},
   "source": [
    "11. Write a Python program that accepts a hyphen-separated sequence of words as input\n",
    "and prints the words in a hyphen-separated sequence after sorting them alphabetically.\n",
    "Sample Items : green-red-yellow-black-white\n",
    "Expected Result : black-green-red-white-yellow"
   ]
  },
  {
   "cell_type": "code",
   "execution_count": 113,
   "id": "afbd7c87",
   "metadata": {},
   "outputs": [
    {
     "name": "stdout",
     "output_type": "stream",
     "text": [
      "enter the sequencegreen-red-yellow-black-white\n"
     ]
    }
   ],
   "source": [
    "def ordering():\n",
    "    x=input('enter the sequence')\n",
    "    a=x.split('-')\n",
    "    b=a.sort()\n",
    "    return b\n",
    "ordering()\n",
    "    "
   ]
  },
  {
   "cell_type": "code",
   "execution_count": null,
   "id": "8eb7e3e3",
   "metadata": {},
   "outputs": [],
   "source": []
  }
 ],
 "metadata": {
  "kernelspec": {
   "display_name": "Python 3 (ipykernel)",
   "language": "python",
   "name": "python3"
  },
  "language_info": {
   "codemirror_mode": {
    "name": "ipython",
    "version": 3
   },
   "file_extension": ".py",
   "mimetype": "text/x-python",
   "name": "python",
   "nbconvert_exporter": "python",
   "pygments_lexer": "ipython3",
   "version": "3.9.13"
  }
 },
 "nbformat": 4,
 "nbformat_minor": 5
}
