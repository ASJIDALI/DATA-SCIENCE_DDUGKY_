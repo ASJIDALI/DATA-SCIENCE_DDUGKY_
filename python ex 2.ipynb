{
 "cells": [
  {
   "cell_type": "markdown",
   "id": "b432deda",
   "metadata": {},
   "source": [
    "1.\tWrite a Python program to count the number of characters (character frequency) in a string."
   ]
  },
  {
   "cell_type": "code",
   "execution_count": 2,
   "id": "131ca4d3",
   "metadata": {},
   "outputs": [
    {
     "name": "stdout",
     "output_type": "stream",
     "text": [
      "enter a word : google.com\n",
      "{'g': 2, 'o': 3, 'l': 1, 'e': 1, 'c': 1, 'm': 1}\n"
     ]
    }
   ],
   "source": [
    "#q 1\n",
    "x=(input('enter a word : '))\n",
    "d={}\n",
    "for i in x:\n",
    "    if i!='.':\n",
    "        d[i]=x.count(i)\n",
    "print(d)\n",
    "    "
   ]
  },
  {
   "cell_type": "markdown",
   "id": "21eda6d0",
   "metadata": {},
   "source": [
    "2.\tWrite a Python program to get a string made of the first 2 and last 2 characters of a given string. If the string length is less than 2, return the empty string instead.\n",
    "Sample String : 'w3resource'\n",
    "Expected Result : 'w3ce'\n",
    "Sample String : 'w3'\n",
    "Expected Result : 'w3w3'\n",
    "Sample String : ' w'\n",
    "Expected Result : Empty String"
   ]
  },
  {
   "cell_type": "code",
   "execution_count": 3,
   "id": "7b1ad7e5",
   "metadata": {},
   "outputs": [
    {
     "name": "stdout",
     "output_type": "stream",
     "text": [
      "enter w3resourse\n",
      "w3se\n"
     ]
    }
   ],
   "source": [
    "#q 2\n",
    "x=input('enter ')\n",
    "if len(x)>=2:\n",
    "    a=x[:2]+x[-2:]\n",
    "    print(a)\n",
    "# elif len(x)==2:\n",
    "#     a=2*x\n",
    "#     print()\n",
    "else:\n",
    "    print('Empty string')"
   ]
  },
  {
   "cell_type": "markdown",
   "id": "eca0e031",
   "metadata": {},
   "source": [
    "3.\tWrite a Python program to get a string from a given string where all occurrences of its first char have been changed to '$', except the first char itself.\n",
    "Sample String : 'restart'\n",
    "Expected Result : 'resta$t'\n"
   ]
  },
  {
   "cell_type": "code",
   "execution_count": 4,
   "id": "52a7dd33",
   "metadata": {},
   "outputs": [
    {
     "name": "stdout",
     "output_type": "stream",
     "text": [
      "enter restart\n",
      "resta$t\n"
     ]
    }
   ],
   "source": [
    "#question 3\n",
    "x=input('enter ')\n",
    "q='$'\n",
    "a=len(x)\n",
    "a=a-1\n",
    "for i in range(1,len(x)):\n",
    "    if  x[0]==x[a]:\n",
    "        w=x.replace(x[a],q)\n",
    "        b=x[0]+w[1:]\n",
    "        print(b)\n",
    "        break\n",
    "    else:\n",
    "        a=a-1 "
   ]
  },
  {
   "cell_type": "markdown",
   "id": "d1421a9d",
   "metadata": {},
   "source": [
    "4.\tWrite a Python program to get a single string from two given strings, separated by a space and swap the first two characters of each string.\n",
    "Sample String : 'abc', 'xyz'\n",
    "Expected Result : 'xyc abz'\n"
   ]
  },
  {
   "cell_type": "code",
   "execution_count": 5,
   "id": "65379559",
   "metadata": {},
   "outputs": [
    {
     "name": "stdout",
     "output_type": "stream",
     "text": [
      "enter a word xyz\n",
      "enter another wordabc\n",
      "abz xyc\n"
     ]
    }
   ],
   "source": [
    "#question4\n",
    "x=input('enter a word ')\n",
    "y=input('enter another word')\n",
    "z=y[:2]+x[2:]+' '+x[:2]+y[2:]\n",
    "print(z)\n"
   ]
  },
  {
   "cell_type": "markdown",
   "id": "5942c817",
   "metadata": {},
   "source": [
    "5.\tWrite a Python program to add 'ing' at the end of a given string (length should be at least 3). If the given string already ends with 'ing', add 'ly' instead. If the string length of the given string is less than 3, leave it unchanged."
   ]
  },
  {
   "cell_type": "code",
   "execution_count": 6,
   "id": "dad1d69a",
   "metadata": {},
   "outputs": [
    {
     "name": "stdout",
     "output_type": "stream",
     "text": [
      "enter a word :playing\n",
      "playly\n"
     ]
    }
   ],
   "source": [
    "#question 5\n",
    "x=input('enter a word :')\n",
    "if len(x)>3 and x[-3:]!='ing':\n",
    "    print(x+'ing')\n",
    "elif x[-3:]=='ing':\n",
    "    print(x[:-3]+'ly')\n",
    "else:\n",
    "    print(x)"
   ]
  },
  {
   "cell_type": "markdown",
   "id": "b0e9bcf4",
   "metadata": {},
   "source": [
    "6.\t Write a Python program to find the first appearance of the substrings 'not' and 'poor' in a given string. If 'not' follows 'poor', replace the whole 'not'...'poor' substring with 'good'. Return the resulting string.\n",
    "Sample String : 'The lyrics is not that poor!'\n",
    "'The lyrics is poor!'\n",
    "Expected Result : 'The lyrics is good!'\n",
    "'The lyrics is poor!'\n"
   ]
  },
  {
   "cell_type": "code",
   "execution_count": 7,
   "id": "87809bd5",
   "metadata": {},
   "outputs": [
    {
     "name": "stdout",
     "output_type": "stream",
     "text": [
      "enter a word The lyrics is not that poor!\n",
      "The lyrics is good\n"
     ]
    }
   ],
   "source": [
    "#question 6\n",
    "x=input('enter a word ')\n",
    "a=x.find('not')\n",
    "b=x.find('poor')\n",
    "if x[a:a+3]=='not' and x[b:b+4]=='poor':\n",
    "    x=x[:a]+'good'\n",
    "    print(x)\n",
    "else:\n",
    "    print(x)\n"
   ]
  },
  {
   "cell_type": "markdown",
   "id": "098949bc",
   "metadata": {},
   "source": [
    "7.\t Write a Python program to change a given string to a newly string where the first and last chars have been exchanged.\n"
   ]
  },
  {
   "cell_type": "code",
   "execution_count": 8,
   "id": "0ad4a568",
   "metadata": {},
   "outputs": [
    {
     "name": "stdout",
     "output_type": "stream",
     "text": [
      "enter a word hello world\n",
      "ldllo worhe\n"
     ]
    }
   ],
   "source": [
    "#question 7\n",
    "x=input('enter a word ')\n",
    "y=x[-2:]+x[2:-2]+x[:2]\n",
    "print(y)"
   ]
  },
  {
   "cell_type": "markdown",
   "id": "0d48d2e7",
   "metadata": {},
   "source": [
    "8.\tWrite a Python program to remove characters that have odd index values in a given string."
   ]
  },
  {
   "cell_type": "code",
   "execution_count": 9,
   "id": "5faac786",
   "metadata": {},
   "outputs": [
    {
     "name": "stdout",
     "output_type": "stream",
     "text": [
      "enter a word airport\n",
      "arot\n"
     ]
    }
   ],
   "source": [
    "# question 8\n",
    "x=input(\"enter a word \")\n",
    "z=x[0]\n",
    "for i in range(2,len(x),2):\n",
    "        z+=x[i]\n",
    "print(z)\n"
   ]
  },
  {
   "cell_type": "markdown",
   "id": "9cbac84b",
   "metadata": {},
   "source": [
    "9.\tWrite a Python script that takes input from the user and displays that input back in upper and lower cases."
   ]
  },
  {
   "cell_type": "code",
   "execution_count": 10,
   "id": "67e10e74",
   "metadata": {},
   "outputs": [
    {
     "name": "stdout",
     "output_type": "stream",
     "text": [
      "enter a wordheLLo\n",
      "upper case HELLO \n",
      " lower case hello\n"
     ]
    }
   ],
   "source": [
    "#question 9\n",
    "x=input(\"enter a word\")\n",
    "print(\"upper case\",x.upper(),'\\n',\"lower case\",x.lower())"
   ]
  },
  {
   "cell_type": "markdown",
   "id": "ce5b5a4b",
   "metadata": {},
   "source": [
    "10.\tWrite a Python function to get a string made of 4 copies of the last two characters of a specified string (length must be at least 2).\n",
    "Sample function and result :\n",
    "insert_end('Python') -> onononon\n",
    "insert_end('Exercises') -> eseseses\n"
   ]
  },
  {
   "cell_type": "code",
   "execution_count": 12,
   "id": "d3e8b9d5",
   "metadata": {},
   "outputs": [],
   "source": [
    "#question 10\n",
    "\n",
    "def insert_end(x):\n",
    "    if len(x)>2:\n",
    "        a=x[-2:]*4\n",
    "        print(a)\n",
    "        return a\n"
   ]
  },
  {
   "cell_type": "code",
   "execution_count": 13,
   "id": "ee7c4309",
   "metadata": {},
   "outputs": [
    {
     "name": "stdout",
     "output_type": "stream",
     "text": [
      "eseseses\n"
     ]
    },
    {
     "data": {
      "text/plain": [
       "'eseseses'"
      ]
     },
     "execution_count": 13,
     "metadata": {},
     "output_type": "execute_result"
    }
   ],
   "source": [
    "insert_end('Exercises')"
   ]
  },
  {
   "cell_type": "markdown",
   "id": "b191bb79",
   "metadata": {},
   "source": [
    "11.\tWrite a Python function to get a string made of the first three characters of a specified string. If the length of the string is less than 3, return the original string.\n",
    "Sample function and result :\n",
    "first_three('ipy') -> ipy\n",
    "first_three('python') -> pyt\n"
   ]
  },
  {
   "cell_type": "code",
   "execution_count": 14,
   "id": "a05878ce",
   "metadata": {},
   "outputs": [],
   "source": [
    "#question 11\n",
    "def fst3(x):\n",
    "    if len(x)>3:\n",
    "        print(x[:3])\n",
    "    else:\n",
    "        print(x)"
   ]
  },
  {
   "cell_type": "code",
   "execution_count": 16,
   "id": "db2db126",
   "metadata": {},
   "outputs": [
    {
     "name": "stdout",
     "output_type": "stream",
     "text": [
      "pyt\n"
     ]
    }
   ],
   "source": [
    "fst3('python')"
   ]
  },
  {
   "cell_type": "code",
   "execution_count": null,
   "id": "2aaa0cf2",
   "metadata": {},
   "outputs": [],
   "source": []
  }
 ],
 "metadata": {
  "kernelspec": {
   "display_name": "Python 3 (ipykernel)",
   "language": "python",
   "name": "python3"
  },
  "language_info": {
   "codemirror_mode": {
    "name": "ipython",
    "version": 3
   },
   "file_extension": ".py",
   "mimetype": "text/x-python",
   "name": "python",
   "nbconvert_exporter": "python",
   "pygments_lexer": "ipython3",
   "version": "3.9.13"
  }
 },
 "nbformat": 4,
 "nbformat_minor": 5
}
